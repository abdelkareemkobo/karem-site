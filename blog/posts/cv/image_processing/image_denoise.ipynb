{
 "cells": [
  {
   "cell_type": "markdown",
   "id": "a7837605",
   "metadata": {},
   "source": [
    "---\n",
    "title: Definitive Guide into Image denoise \n",
    "description: A comprehensive guide to image denoising theory, techniques, and applications with SOTA DL models and Generative AI.\n",
    "date: 2025-06-13\n",
    "categories:\n",
    "  - blogging\n",
    "  - denoise\n",
    "  - dl\n",
    "  - ai \n",
    "  - computer_vision\n",
    "# image: images/minishlab.jpg\n",
    "order: 1\n",
    "draft: true\n",
    "featured: true\n",
    "author: kareem\n",
    "execute: \n",
    "    echo: false\n",
    "jupyter: python3\n",
    "---"
   ]
  },
  {
   "cell_type": "markdown",
   "id": "4cb0d0f2",
   "metadata": {},
   "source": [
    "## What is Image Denoising? \n",
    "\n",
    "Image denoising is the process of removing noise from images to enhance their quality and clarity. \n",
    "\n",
    "But what type of noise? \n",
    "\n",
    "Where is the noise coming from? \n",
    "\n",
    "1. The main sources of noise in digital images are during the acquisition (quantity of photons collected too low, sensor temperature…) or during any transmission (echoes and atmospheric distortions in wireless communication). \n",
    "\n",
    "2. In some cases, noise is also considered to model the inaccuracies in the mathematical model of image formation, the latter being necessarily different compared to reality, like any physical model!\n",
    "\n",
    "3. The noise is by nature a random phenomenon, it is modelled by a probability density which represents the intensity distribution of the noise.\n",
    "\n",
    "## Image Denoising Types \n",
    "\n",
    "1. Additive Gaussian Noise (AWGN)\n",
    "2. Possion Noise or Shot Noise\n",
    "3. Salt and Pepper Noise or Impulse Noise\n",
    "4. Speckle Noise \n",
    "5. Quantization Noise\n",
    "6. Low Light Noise\n",
    "7. Motion Blur Noise\n",
    "8. JPEG Compression Noise\n",
    "9. Color Noise\n",
    "10. Temporal Noise\n",
    "11. Banding Noise\n",
    "12. Blooming Noise\n",
    "13. Color Fringing Noise\n",
    "14. Banding Noise\n",
    "15. Chromatic Aberration Noise\n",
    "16. Lens Distortion Noise\n",
    "17. Vignetting Noise\n",
    "18. Ghosting Noise\n",
    "19. Haze or Fog Noise\n",
    "20. Atmospheric Distortion Noise\n",
    "\n",
    "\n",
    "and many more... \n",
    "\n",
    "\n"
   ]
  },
  {
   "cell_type": "markdown",
   "id": "3254e608",
   "metadata": {},
   "source": [
    "## Image Denoising Challenges\n",
    "\n",
    "noisy_image  = ranom noise + original image\n",
    "\n",
    "denoised_image = noisy_image - random noise \n",
    "\n",
    "the problem here is that we don't know the random noise, so we need to estimate it from the noisy image.\n",
    "from the fact that the noise is random, the denoising process is inherently uncertain, and the goal is to find a balance between removing noise and preserving the original image content.\n",
    "some  of the challenges in image denoising include:\n",
    "\n",
    "1. **Noise Variability**: Different types of noise require different denoising techniques, making it challenging to create a one-size-fits-all solution.\n",
    "\n",
    "2. **Loss of Detail**: Aggressive denoising can lead to loss of important image details, especially in textured areas.\n",
    "\n",
    "3. **Computational Complexity**: Many denoising algorithms are computationally intensive, making them impractical for real-time applications.\n",
    "\n",
    "Now, we know our goal is to estimate the random noise from the noisy image, but how can we do that?\n",
    "\n",
    "I am new to the field of image denoising  and i didn't know the classicial approachs or the work that has done in this area. \n",
    "\n",
    "We will try to explore this field but according to the ML and DL approaches. \n",
    "\n",
    "## Image Denoising Techniques\n",
    "\n",
    "Image denoising is based on three techinuqes: \n",
    "1. Spatial filtering\n",
    "2. Temporal accumulation\n",
    "3. ML and DL reconstruction\n",
    "### Spatil filtering \n",
    "\n",
    "\n",
    "## Image Denoising Metrics\n",
    "\n",
    "## Image Denoising Applications\n",
    "\n",
    "## Future Directions in Image Denoinsing\n",
    "\n"
   ]
  },
  {
   "cell_type": "markdown",
   "id": "c07743fd",
   "metadata": {},
   "source": [
    "## References:\n",
    "1. [Basics of image Processing](https://vincmazet.github.io/bip/restoration/denoising.html)"
   ]
  },
  {
   "cell_type": "markdown",
   "id": "e02b2199",
   "metadata": {},
   "source": []
  }
 ],
 "metadata": {
  "kernelspec": {
   "display_name": "nlp",
   "language": "python",
   "name": "python3"
  },
  "language_info": {
   "codemirror_mode": {
    "name": "ipython",
    "version": 3
   },
   "file_extension": ".py",
   "mimetype": "text/x-python",
   "name": "python",
   "nbconvert_exporter": "python",
   "pygments_lexer": "ipython3",
   "version": "3.12.11"
  }
 },
 "nbformat": 4,
 "nbformat_minor": 5
}
